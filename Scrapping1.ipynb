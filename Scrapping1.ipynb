{
 "cells": [
  {
   "cell_type": "markdown",
   "id": "7d53d38c",
   "metadata": {},
   "source": [
    "# Práctica de Web Scrapping"
   ]
  },
  {
   "cell_type": "markdown",
   "id": "58f95688",
   "metadata": {},
   "source": [
    "## Importar librerías"
   ]
  },
  {
   "cell_type": "markdown",
   "id": "34ac36b4",
   "metadata": {},
   "source": [
    "Ahora importo la libreria [requests](https://docs.python-requests.org/en/latest/)"
   ]
  },
  {
   "cell_type": "code",
   "execution_count": 17,
   "id": "7ebc34cf",
   "metadata": {},
   "outputs": [],
   "source": [
    "import requests"
   ]
  },
  {
   "cell_type": "markdown",
   "id": "b99bdc31",
   "metadata": {},
   "source": [
    "Voy a importar de la libreria [bs4](https://www.crummy.com/software/BeautifulSoup/bs4/doc/) `Beautiful Soup`"
   ]
  },
  {
   "cell_type": "code",
   "execution_count": 18,
   "id": "f963f1ac",
   "metadata": {},
   "outputs": [],
   "source": [
    "from bs4 import BeautifulSoup"
   ]
  },
  {
   "cell_type": "markdown",
   "id": "5844d075",
   "metadata": {},
   "source": [
    "## Variables"
   ]
  },
  {
   "cell_type": "markdown",
   "id": "fc3ab23b",
   "metadata": {},
   "source": [
    "Explicación de variables: como lo que quiero es sacar los paises que han obtenido oro plata bornce, auqi explico que estas son las variables que quiero utilizar aquí. De html buscame todos los td que no se que."
   ]
  },
  {
   "cell_type": "markdown",
   "id": "8881e56f",
   "metadata": {},
   "source": [
    "### Definimos URL"
   ]
  },
  {
   "cell_type": "code",
   "execution_count": 19,
   "id": "5cad1eb8",
   "metadata": {},
   "outputs": [],
   "source": [
    "URL = \"https://resultados.elpais.com/deportivos/juegos-olimpicos/medallero/\""
   ]
  },
  {
   "cell_type": "markdown",
   "id": "ce5b28e0",
   "metadata": {},
   "source": [
    "### Realizamos la petición a la web"
   ]
  },
  {
   "cell_type": "markdown",
   "id": "dba56994",
   "metadata": {},
   "source": [
    "Si el estatus code no es 200 no se puede leer la página"
   ]
  },
  {
   "cell_type": "code",
   "execution_count": 20,
   "id": "84f8bc9f",
   "metadata": {},
   "outputs": [
    {
     "name": "stdout",
     "output_type": "stream",
     "text": [
      "Vamos a por ello\n"
     ]
    }
   ],
   "source": [
    "req = requests.get(URL)\n",
    "if (req.status_code != 200):\n",
    "    raise Exception(\"No se puede hacer Web Scraping en\"+ URL)\n",
    "if (req.status_code == 200):\n",
    "    print(\"Vamos a por ello\")"
   ]
  },
  {
   "cell_type": "markdown",
   "id": "2866121b",
   "metadata": {},
   "source": [
    "### De requests a BeautifulSoup"
   ]
  },
  {
   "cell_type": "markdown",
   "id": "f0826dfd",
   "metadata": {},
   "source": [
    "Pasamos el contenido HTML de la web a un objeto BeautifulSoup()"
   ]
  },
  {
   "cell_type": "code",
   "execution_count": 21,
   "id": "f287473b",
   "metadata": {},
   "outputs": [],
   "source": [
    "html = BeautifulSoup(req.text, \"html.parser\")"
   ]
  },
  {
   "cell_type": "markdown",
   "id": "e9756b5e",
   "metadata": {},
   "source": [
    "### Variables de datos"
   ]
  },
  {
   "cell_type": "markdown",
   "id": "a84bd64c",
   "metadata": {},
   "source": [
    "Definimos las variables `paises`, `oros`, `platas`, `bronces`, `totales`, y las identificamos con la función `find_all()`"
   ]
  },
  {
   "cell_type": "code",
   "execution_count": 22,
   "id": "b108a94a",
   "metadata": {},
   "outputs": [],
   "source": [
    "paises = html.find_all(\"th\",{\"class\":\"pais\"})\n",
    "oros = html.find_all(\"td\",{\"class\":\"m_oro\"})\n",
    "platas = html.find_all(\"td\",{\"class\":\"m_plata\"})\n",
    "bronces = html.find_all(\"td\",{\"class\":\"m_bronce\"})\n",
    "totales = html.find_all(\"td\",{\"class\":\"m_total\"})"
   ]
  },
  {
   "cell_type": "markdown",
   "id": "12f863e8",
   "metadata": {},
   "source": [
    "## Hacemos la pregunta"
   ]
  },
  {
   "cell_type": "code",
   "execution_count": 27,
   "id": "d1b41c63",
   "metadata": {},
   "outputs": [
    {
     "name": "stdout",
     "output_type": "stream",
     "text": [
      "¿QUIERES CONOCER LOS 20 PAÍSES QUE HAN OBTENIDO MÁS MEDALLAS EN 2020?\n",
      " \n",
      " Si tu respuesta es Sí, presiona \"s\" \n",
      "s\n",
      "Vale, vamos a ello\n"
     ]
    }
   ],
   "source": [
    "respuesta=input('¿QUIERES CONOCER LOS 20 PAÍSES QUE HAN OBTENIDO MÁS MEDALLAS EN 2020?\\n \\n Si tu respuesta es Sí, presiona \"s\" \\n')\n",
    "if(respuesta == 's'): \n",
    "  print('Vale, vamos a ello')\n",
    " "
   ]
  },
  {
   "cell_type": "markdown",
   "id": "671ef1ed",
   "metadata": {},
   "source": [
    "## Bucle para obtener los datos"
   ]
  },
  {
   "cell_type": "code",
   "execution_count": 29,
   "id": "e64b9f40",
   "metadata": {},
   "outputs": [
    {
     "name": "stdout",
     "output_type": "stream",
     "text": [
      "\n",
      "RESULTADOS DE LOS DATOS DE LOS JUEGOS OLÍMPICOS 2020\n",
      "\n",
      "PAÍSES\n",
      "1. Estados Unidos \n",
      "Oro: 39 Plata: 41 Bronce: 33 \n",
      " Total: 113 \n",
      " \n",
      "2. China \n",
      "Oro: 38 Plata: 32 Bronce: 18 \n",
      " Total: 88 \n",
      " \n",
      "3. Japón \n",
      "Oro: 27 Plata: 14 Bronce: 17 \n",
      " Total: 58 \n",
      " \n",
      "4. Reino Unido \n",
      "Oro: 22 Plata: 21 Bronce: 22 \n",
      " Total: 65 \n",
      " \n",
      "5. ROC \n",
      "Oro: 20 Plata: 28 Bronce: 23 \n",
      " Total: 71 \n",
      " \n",
      "6. Australia \n",
      "Oro: 17 Plata: 7 Bronce: 22 \n",
      " Total: 46 \n",
      " \n",
      "7. Países Bajos \n",
      "Oro: 10 Plata: 12 Bronce: 14 \n",
      " Total: 36 \n",
      " \n",
      "8. Francia \n",
      "Oro: 10 Plata: 12 Bronce: 11 \n",
      " Total: 33 \n",
      " \n",
      "9. Alemania \n",
      "Oro: 10 Plata: 11 Bronce: 16 \n",
      " Total: 37 \n",
      " \n",
      "10. Italia \n",
      "Oro: 10 Plata: 10 Bronce: 20 \n",
      " Total: 40 \n",
      " \n",
      "11. Canadá \n",
      "Oro: 7 Plata: 6 Bronce: 11 \n",
      " Total: 24 \n",
      " \n",
      "12. Brasil \n",
      "Oro: 7 Plata: 6 Bronce: 8 \n",
      " Total: 21 \n",
      " \n",
      "13. Nueva Zelanda \n",
      "Oro: 7 Plata: 6 Bronce: 7 \n",
      " Total: 20 \n",
      " \n",
      "14. Cuba \n",
      "Oro: 7 Plata: 3 Bronce: 5 \n",
      " Total: 15 \n",
      " \n",
      "15. Hungría \n",
      "Oro: 6 Plata: 7 Bronce: 7 \n",
      " Total: 20 \n",
      " \n",
      "16. Corea del Sur \n",
      "Oro: 6 Plata: 4 Bronce: 10 \n",
      " Total: 20 \n",
      " \n",
      "17. Polonia \n",
      "Oro: 4 Plata: 5 Bronce: 5 \n",
      " Total: 14 \n",
      " \n",
      "18. República Checa \n",
      "Oro: 4 Plata: 4 Bronce: 3 \n",
      " Total: 11 \n",
      " \n",
      "19. Kenia \n",
      "Oro: 4 Plata: 4 Bronce: 2 \n",
      " Total: 10 \n",
      " \n",
      "20. Noruega \n",
      "Oro: 4 Plata: 2 Bronce: 2 \n",
      " Total: 8 \n",
      " \n",
      "Qué lástima, y...\n"
     ]
    }
   ],
   "source": [
    "print('\\nRESULTADOS DE LOS DATOS DE LOS JUEGOS OLÍMPICOS 2020\\n')\n",
    "print ('PAÍSES')\n",
    "\n",
    "for i in range (20):\n",
    "    # Con el método \"getText()\" no nos devuelve el HTML\n",
    "    print(\"%d. %s \\nOro: %s Plata: %s Bronce: %s \\n Total: %s \\n \" % (i+1, paises[i+1].text.strip(),oros[i].text.strip(),platas[i].text.strip(),bronces[i].text.strip(), totales[i].text.strip()))\n",
    "\n",
    "else:\n",
    "  print('Qué lástima, y...')"
   ]
  },
  {
   "cell_type": "code",
   "execution_count": null,
   "id": "52d88461",
   "metadata": {},
   "outputs": [],
   "source": []
  }
 ],
 "metadata": {
  "kernelspec": {
   "display_name": "Python 3",
   "language": "python",
   "name": "python3"
  },
  "language_info": {
   "codemirror_mode": {
    "name": "ipython",
    "version": 3
   },
   "file_extension": ".py",
   "mimetype": "text/x-python",
   "name": "python",
   "nbconvert_exporter": "python",
   "pygments_lexer": "ipython3",
   "version": "3.8.8"
  }
 },
 "nbformat": 4,
 "nbformat_minor": 5
}
 
