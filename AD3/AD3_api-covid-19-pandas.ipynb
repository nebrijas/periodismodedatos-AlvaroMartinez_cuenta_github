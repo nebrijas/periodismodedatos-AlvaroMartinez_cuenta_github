{
 "cells": [
  {
   "cell_type": "markdown",
   "id": "ae7ba2fd",
   "metadata": {},
   "source": [
    "# Uso de API de Covid-19 con Pandas"
   ]
  },
  {
   "cell_type": "markdown",
   "id": "7b34ad08",
   "metadata": {},
   "source": [
    "https://api.covid19api.com/\n",
    "\n",
    "https://api.covid19api.com"
   ]
  },
  {
   "cell_type": "markdown",
   "id": "4671f283",
   "metadata": {},
   "source": [
    "## Instalación Pandas"
   ]
  },
  {
   "cell_type": "markdown",
   "id": "ac2cade3",
   "metadata": {},
   "source": [
    "Lo primero que vamos a hacer es instalar Pandas, que proporciona herramientas que permiten leer y escribir datos en diferentes formatos: CSV, Microsoft Excel, bases SQL y formato HDF5. Además esta herramienta nos permite seleccionar y filtrar de manera sencilla tablas de datos en función de la posición, el valor o las propias etiquetas, así como fusionar y unir datos."
   ]
  },
  {
   "cell_type": "code",
   "execution_count": 38,
   "id": "4c36766e",
   "metadata": {},
   "outputs": [
    {
     "name": "stdout",
     "output_type": "stream",
     "text": [
      "Requirement already satisfied: pandas in c:\\programdata\\anaconda3\\lib\\site-packages (1.2.4)\n",
      "Requirement already satisfied: python-dateutil>=2.7.3 in c:\\programdata\\anaconda3\\lib\\site-packages (from pandas) (2.8.1)\n",
      "Requirement already satisfied: numpy>=1.16.5 in c:\\programdata\\anaconda3\\lib\\site-packages (from pandas) (1.20.1)\n",
      "Requirement already satisfied: pytz>=2017.3 in c:\\programdata\\anaconda3\\lib\\site-packages (from pandas) (2021.1)\n",
      "Requirement already satisfied: six>=1.5 in c:\\programdata\\anaconda3\\lib\\site-packages (from python-dateutil>=2.7.3->pandas) (1.15.0)\n"
     ]
    }
   ],
   "source": [
    "!pip install pandas"
   ]
  },
  {
   "cell_type": "markdown",
   "id": "987ca267",
   "metadata": {},
   "source": [
    "## Configuración"
   ]
  },
  {
   "cell_type": "markdown",
   "id": "c3e4f69a",
   "metadata": {},
   "source": [
    "Esta es la parte del código de importación en el que Pandas le dice a Python que traiga la biblioteca de análisis de datos de pandas al entorno actual.\n",
    "\n",
    "Además la parte del código como `pd` le dice a Python que le de a los pandas el alias de `pd`. Esto le permite usar las funciones de pandas simplemente escribiendo `pd.function_name` en lugar de `pandas.function_name`"
   ]
  },
  {
   "cell_type": "code",
   "execution_count": 39,
   "id": "8207bf79",
   "metadata": {},
   "outputs": [],
   "source": [
    "import pandas as pd"
   ]
  },
  {
   "cell_type": "markdown",
   "id": "d965f6c8",
   "metadata": {},
   "source": [
    "## Variables"
   ]
  },
  {
   "cell_type": "markdown",
   "id": "b78da7fa",
   "metadata": {},
   "source": [
    "Una de las cosas más importantes, por no decir la que más, es definir la URL de la cual queremos extraer los datos. Las variables hay que crearlas al principio... a no ser que tengamos que ir utilizando otras sobre la marcha."
   ]
  },
  {
   "cell_type": "code",
   "execution_count": 40,
   "id": "b784b8df",
   "metadata": {},
   "outputs": [],
   "source": [
    "url = 'https://api.covid19api.com/countries'"
   ]
  },
  {
   "cell_type": "markdown",
   "id": "b7b11ffa",
   "metadata": {},
   "source": [
    "## Creación de *dataframe*\n",
    "\n",
    "Ahora es cuando conectamos los datos de la API para traerlos aquí. Más tarde usaremos el DataFrame (o la tabla) para organizarlos adecuadamente.\n",
    "Utilizamos la función `read_json` para leer los datos en JSON dela API:"
   ]
  },
  {
   "cell_type": "code",
   "execution_count": 41,
   "id": "10df6543",
   "metadata": {},
   "outputs": [],
   "source": [
    "df = pd.read_json(url)"
   ]
  },
  {
   "cell_type": "code",
   "execution_count": 42,
   "id": "6dfa63ca",
   "metadata": {},
   "outputs": [
    {
     "data": {
      "text/html": [
       "<div>\n",
       "<style scoped>\n",
       "    .dataframe tbody tr th:only-of-type {\n",
       "        vertical-align: middle;\n",
       "    }\n",
       "\n",
       "    .dataframe tbody tr th {\n",
       "        vertical-align: top;\n",
       "    }\n",
       "\n",
       "    .dataframe thead th {\n",
       "        text-align: right;\n",
       "    }\n",
       "</style>\n",
       "<table border=\"1\" class=\"dataframe\">\n",
       "  <thead>\n",
       "    <tr style=\"text-align: right;\">\n",
       "      <th></th>\n",
       "      <th>Country</th>\n",
       "      <th>Slug</th>\n",
       "      <th>ISO2</th>\n",
       "    </tr>\n",
       "  </thead>\n",
       "  <tbody>\n",
       "    <tr>\n",
       "      <th>0</th>\n",
       "      <td>Republic of Kosovo</td>\n",
       "      <td>kosovo</td>\n",
       "      <td>XK</td>\n",
       "    </tr>\n",
       "    <tr>\n",
       "      <th>1</th>\n",
       "      <td>Botswana</td>\n",
       "      <td>botswana</td>\n",
       "      <td>BW</td>\n",
       "    </tr>\n",
       "    <tr>\n",
       "      <th>2</th>\n",
       "      <td>Central African Republic</td>\n",
       "      <td>central-african-republic</td>\n",
       "      <td>CF</td>\n",
       "    </tr>\n",
       "    <tr>\n",
       "      <th>3</th>\n",
       "      <td>Hungary</td>\n",
       "      <td>hungary</td>\n",
       "      <td>HU</td>\n",
       "    </tr>\n",
       "    <tr>\n",
       "      <th>4</th>\n",
       "      <td>Peru</td>\n",
       "      <td>peru</td>\n",
       "      <td>PE</td>\n",
       "    </tr>\n",
       "    <tr>\n",
       "      <th>...</th>\n",
       "      <td>...</td>\n",
       "      <td>...</td>\n",
       "      <td>...</td>\n",
       "    </tr>\n",
       "    <tr>\n",
       "      <th>243</th>\n",
       "      <td>Malta</td>\n",
       "      <td>malta</td>\n",
       "      <td>MT</td>\n",
       "    </tr>\n",
       "    <tr>\n",
       "      <th>244</th>\n",
       "      <td>San Marino</td>\n",
       "      <td>san-marino</td>\n",
       "      <td>SM</td>\n",
       "    </tr>\n",
       "    <tr>\n",
       "      <th>245</th>\n",
       "      <td>Gibraltar</td>\n",
       "      <td>gibraltar</td>\n",
       "      <td>GI</td>\n",
       "    </tr>\n",
       "    <tr>\n",
       "      <th>246</th>\n",
       "      <td>Uganda</td>\n",
       "      <td>uganda</td>\n",
       "      <td>UG</td>\n",
       "    </tr>\n",
       "    <tr>\n",
       "      <th>247</th>\n",
       "      <td>Vanuatu</td>\n",
       "      <td>vanuatu</td>\n",
       "      <td>VU</td>\n",
       "    </tr>\n",
       "  </tbody>\n",
       "</table>\n",
       "<p>248 rows × 3 columns</p>\n",
       "</div>"
      ],
      "text/plain": [
       "                      Country                      Slug ISO2\n",
       "0          Republic of Kosovo                    kosovo   XK\n",
       "1                    Botswana                  botswana   BW\n",
       "2    Central African Republic  central-african-republic   CF\n",
       "3                     Hungary                   hungary   HU\n",
       "4                        Peru                      peru   PE\n",
       "..                        ...                       ...  ...\n",
       "243                     Malta                     malta   MT\n",
       "244                San Marino                san-marino   SM\n",
       "245                 Gibraltar                 gibraltar   GI\n",
       "246                    Uganda                    uganda   UG\n",
       "247                   Vanuatu                   vanuatu   VU\n",
       "\n",
       "[248 rows x 3 columns]"
      ]
     },
     "execution_count": 42,
     "metadata": {},
     "output_type": "execute_result"
    }
   ],
   "source": [
    "df"
   ]
  },
  {
   "cell_type": "markdown",
   "id": "6b386e3e",
   "metadata": {},
   "source": [
    "## Explorar tabla\n",
    "- Cabecera\n",
    "- Cola\n",
    "- Descripción\n",
    "\n",
    "Ahora, en el código podemos poner entre paréntesis el número de filas que queremos visualizar, por si nos resulta más comodo ver un número en concreto.\n",
    "\n",
    "Por otro lado si dejamos el paréntesis vacío automáticamente el programa nos dara los los 5 primeros valores. Lo hará tanto en la cabecera `head`, como en la cola `tail`."
   ]
  },
  {
   "cell_type": "code",
   "execution_count": 43,
   "id": "c902869e",
   "metadata": {},
   "outputs": [
    {
     "data": {
      "text/html": [
       "<div>\n",
       "<style scoped>\n",
       "    .dataframe tbody tr th:only-of-type {\n",
       "        vertical-align: middle;\n",
       "    }\n",
       "\n",
       "    .dataframe tbody tr th {\n",
       "        vertical-align: top;\n",
       "    }\n",
       "\n",
       "    .dataframe thead th {\n",
       "        text-align: right;\n",
       "    }\n",
       "</style>\n",
       "<table border=\"1\" class=\"dataframe\">\n",
       "  <thead>\n",
       "    <tr style=\"text-align: right;\">\n",
       "      <th></th>\n",
       "      <th>Country</th>\n",
       "      <th>Slug</th>\n",
       "      <th>ISO2</th>\n",
       "    </tr>\n",
       "  </thead>\n",
       "  <tbody>\n",
       "    <tr>\n",
       "      <th>0</th>\n",
       "      <td>Republic of Kosovo</td>\n",
       "      <td>kosovo</td>\n",
       "      <td>XK</td>\n",
       "    </tr>\n",
       "    <tr>\n",
       "      <th>1</th>\n",
       "      <td>Botswana</td>\n",
       "      <td>botswana</td>\n",
       "      <td>BW</td>\n",
       "    </tr>\n",
       "    <tr>\n",
       "      <th>2</th>\n",
       "      <td>Central African Republic</td>\n",
       "      <td>central-african-republic</td>\n",
       "      <td>CF</td>\n",
       "    </tr>\n",
       "    <tr>\n",
       "      <th>3</th>\n",
       "      <td>Hungary</td>\n",
       "      <td>hungary</td>\n",
       "      <td>HU</td>\n",
       "    </tr>\n",
       "    <tr>\n",
       "      <th>4</th>\n",
       "      <td>Peru</td>\n",
       "      <td>peru</td>\n",
       "      <td>PE</td>\n",
       "    </tr>\n",
       "  </tbody>\n",
       "</table>\n",
       "</div>"
      ],
      "text/plain": [
       "                    Country                      Slug ISO2\n",
       "0        Republic of Kosovo                    kosovo   XK\n",
       "1                  Botswana                  botswana   BW\n",
       "2  Central African Republic  central-african-republic   CF\n",
       "3                   Hungary                   hungary   HU\n",
       "4                      Peru                      peru   PE"
      ]
     },
     "execution_count": 43,
     "metadata": {},
     "output_type": "execute_result"
    }
   ],
   "source": [
    "df.head()"
   ]
  },
  {
   "cell_type": "code",
   "execution_count": 44,
   "id": "02b4cd42",
   "metadata": {},
   "outputs": [
    {
     "data": {
      "text/html": [
       "<div>\n",
       "<style scoped>\n",
       "    .dataframe tbody tr th:only-of-type {\n",
       "        vertical-align: middle;\n",
       "    }\n",
       "\n",
       "    .dataframe tbody tr th {\n",
       "        vertical-align: top;\n",
       "    }\n",
       "\n",
       "    .dataframe thead th {\n",
       "        text-align: right;\n",
       "    }\n",
       "</style>\n",
       "<table border=\"1\" class=\"dataframe\">\n",
       "  <thead>\n",
       "    <tr style=\"text-align: right;\">\n",
       "      <th></th>\n",
       "      <th>Country</th>\n",
       "      <th>Slug</th>\n",
       "      <th>ISO2</th>\n",
       "    </tr>\n",
       "  </thead>\n",
       "  <tbody>\n",
       "    <tr>\n",
       "      <th>243</th>\n",
       "      <td>Malta</td>\n",
       "      <td>malta</td>\n",
       "      <td>MT</td>\n",
       "    </tr>\n",
       "    <tr>\n",
       "      <th>244</th>\n",
       "      <td>San Marino</td>\n",
       "      <td>san-marino</td>\n",
       "      <td>SM</td>\n",
       "    </tr>\n",
       "    <tr>\n",
       "      <th>245</th>\n",
       "      <td>Gibraltar</td>\n",
       "      <td>gibraltar</td>\n",
       "      <td>GI</td>\n",
       "    </tr>\n",
       "    <tr>\n",
       "      <th>246</th>\n",
       "      <td>Uganda</td>\n",
       "      <td>uganda</td>\n",
       "      <td>UG</td>\n",
       "    </tr>\n",
       "    <tr>\n",
       "      <th>247</th>\n",
       "      <td>Vanuatu</td>\n",
       "      <td>vanuatu</td>\n",
       "      <td>VU</td>\n",
       "    </tr>\n",
       "  </tbody>\n",
       "</table>\n",
       "</div>"
      ],
      "text/plain": [
       "        Country        Slug ISO2\n",
       "243       Malta       malta   MT\n",
       "244  San Marino  san-marino   SM\n",
       "245   Gibraltar   gibraltar   GI\n",
       "246      Uganda      uganda   UG\n",
       "247     Vanuatu     vanuatu   VU"
      ]
     },
     "execution_count": 44,
     "metadata": {},
     "output_type": "execute_result"
    }
   ],
   "source": [
    "df.tail()"
   ]
  },
  {
   "cell_type": "markdown",
   "id": "0821234a",
   "metadata": {},
   "source": [
    "La siguiente función `df.describe()` nos sirve para hacer una descripción numérica de la tabla. Como podemos ver a continuación"
   ]
  },
  {
   "cell_type": "code",
   "execution_count": 45,
   "id": "9ca51615",
   "metadata": {},
   "outputs": [
    {
     "data": {
      "text/html": [
       "<div>\n",
       "<style scoped>\n",
       "    .dataframe tbody tr th:only-of-type {\n",
       "        vertical-align: middle;\n",
       "    }\n",
       "\n",
       "    .dataframe tbody tr th {\n",
       "        vertical-align: top;\n",
       "    }\n",
       "\n",
       "    .dataframe thead th {\n",
       "        text-align: right;\n",
       "    }\n",
       "</style>\n",
       "<table border=\"1\" class=\"dataframe\">\n",
       "  <thead>\n",
       "    <tr style=\"text-align: right;\">\n",
       "      <th></th>\n",
       "      <th>Country</th>\n",
       "      <th>Slug</th>\n",
       "      <th>ISO2</th>\n",
       "    </tr>\n",
       "  </thead>\n",
       "  <tbody>\n",
       "    <tr>\n",
       "      <th>count</th>\n",
       "      <td>248</td>\n",
       "      <td>248</td>\n",
       "      <td>248</td>\n",
       "    </tr>\n",
       "    <tr>\n",
       "      <th>unique</th>\n",
       "      <td>248</td>\n",
       "      <td>248</td>\n",
       "      <td>248</td>\n",
       "    </tr>\n",
       "    <tr>\n",
       "      <th>top</th>\n",
       "      <td>Cocos (Keeling) Islands</td>\n",
       "      <td>somalia</td>\n",
       "      <td>LY</td>\n",
       "    </tr>\n",
       "    <tr>\n",
       "      <th>freq</th>\n",
       "      <td>1</td>\n",
       "      <td>1</td>\n",
       "      <td>1</td>\n",
       "    </tr>\n",
       "  </tbody>\n",
       "</table>\n",
       "</div>"
      ],
      "text/plain": [
       "                        Country     Slug ISO2\n",
       "count                       248      248  248\n",
       "unique                      248      248  248\n",
       "top     Cocos (Keeling) Islands  somalia   LY\n",
       "freq                          1        1    1"
      ]
     },
     "execution_count": 45,
     "metadata": {},
     "output_type": "execute_result"
    }
   ],
   "source": [
    "df.describe()"
   ]
  },
  {
   "cell_type": "markdown",
   "id": "41a7d5c3",
   "metadata": {},
   "source": [
    "La siguiente función `df.info()` nos sirve para visualizar un resumen del dataframe. Este se usa para conocer que no hay celdas vacias y que, por lo tanto, los datos son consistentes."
   ]
  },
  {
   "cell_type": "code",
   "execution_count": 46,
   "id": "3bf6abdb",
   "metadata": {},
   "outputs": [
    {
     "name": "stdout",
     "output_type": "stream",
     "text": [
      "<class 'pandas.core.frame.DataFrame'>\n",
      "RangeIndex: 248 entries, 0 to 247\n",
      "Data columns (total 3 columns):\n",
      " #   Column   Non-Null Count  Dtype \n",
      "---  ------   --------------  ----- \n",
      " 0   Country  248 non-null    object\n",
      " 1   Slug     248 non-null    object\n",
      " 2   ISO2     248 non-null    object\n",
      "dtypes: object(3)\n",
      "memory usage: 5.9+ KB\n"
     ]
    }
   ],
   "source": [
    "df.info()"
   ]
  },
  {
   "cell_type": "markdown",
   "id": "07ec60c6",
   "metadata": {},
   "source": [
    "## Acceso a datos\n",
    "\n",
    "En el acceso a los datos es donde podemos seleccionar lo que queremos ver, por así decir. Si, por ejemplo, quisieramos ver tan solo una de las columnas tendríamos que seleccionar entre corchetes el nombre de la columna que queremos obtener. Aquí veremos un extracto de los primeros y los últimos de toda la lista. Y también nos dirá que tamaño (en números) tiene la lista completa. En el siguiente que vemos, por ejemplo, hay un total de 248.\n"
   ]
  },
  {
   "cell_type": "code",
   "execution_count": 47,
   "id": "f67d148a",
   "metadata": {},
   "outputs": [
    {
     "data": {
      "text/plain": [
       "0            Republic of Kosovo\n",
       "1                      Botswana\n",
       "2      Central African Republic\n",
       "3                       Hungary\n",
       "4                          Peru\n",
       "                 ...           \n",
       "243                       Malta\n",
       "244                  San Marino\n",
       "245                   Gibraltar\n",
       "246                      Uganda\n",
       "247                     Vanuatu\n",
       "Name: Country, Length: 248, dtype: object"
      ]
     },
     "execution_count": 47,
     "metadata": {},
     "output_type": "execute_result"
    }
   ],
   "source": [
    "df['Country']"
   ]
  },
  {
   "cell_type": "markdown",
   "id": "16a91695",
   "metadata": {},
   "source": [
    "Ahora, por ejemplo, queremos saber qué país se encuentra en la posición 200 de la lista anterior. Lo sabemos con el siguiente comando, que nos dice que en este caso es Angola"
   ]
  },
  {
   "cell_type": "code",
   "execution_count": 48,
   "id": "31450859",
   "metadata": {},
   "outputs": [
    {
     "data": {
      "text/plain": [
       "'Angola'"
      ]
     },
     "execution_count": 48,
     "metadata": {},
     "output_type": "execute_result"
    }
   ],
   "source": [
    "df['Country'][200]"
   ]
  },
  {
   "cell_type": "markdown",
   "id": "91d99bac",
   "metadata": {},
   "source": [
    "## Tiempo real España\n",
    "\n",
    "Ahora queremos conocer cuales son los datos en tiempo real, para ello vamos a usar el código `url_live`. Entonces lo que hacemos es decir que la url, por ejemplo de españa, es `url_es = link de donde queremos extraer los datos`. Debajo pondremos el Data Frame para que nos saque los datos y así veamos si lo hemos hecho bien."
   ]
  },
  {
   "cell_type": "code",
   "execution_count": 49,
   "id": "e6ea52ea",
   "metadata": {
    "scrolled": false
   },
   "outputs": [
    {
     "data": {
      "text/html": [
       "<div>\n",
       "<style scoped>\n",
       "    .dataframe tbody tr th:only-of-type {\n",
       "        vertical-align: middle;\n",
       "    }\n",
       "\n",
       "    .dataframe tbody tr th {\n",
       "        vertical-align: top;\n",
       "    }\n",
       "\n",
       "    .dataframe thead th {\n",
       "        text-align: right;\n",
       "    }\n",
       "</style>\n",
       "<table border=\"1\" class=\"dataframe\">\n",
       "  <thead>\n",
       "    <tr style=\"text-align: right;\">\n",
       "      <th></th>\n",
       "      <th>Country</th>\n",
       "      <th>CountryCode</th>\n",
       "      <th>Province</th>\n",
       "      <th>City</th>\n",
       "      <th>CityCode</th>\n",
       "      <th>Lat</th>\n",
       "      <th>Lon</th>\n",
       "      <th>Cases</th>\n",
       "      <th>Status</th>\n",
       "      <th>Date</th>\n",
       "    </tr>\n",
       "  </thead>\n",
       "  <tbody>\n",
       "    <tr>\n",
       "      <th>0</th>\n",
       "      <td>Spain</td>\n",
       "      <td>ES</td>\n",
       "      <td></td>\n",
       "      <td></td>\n",
       "      <td></td>\n",
       "      <td>40.46</td>\n",
       "      <td>-3.75</td>\n",
       "      <td>0</td>\n",
       "      <td>confirmed</td>\n",
       "      <td>2020-01-22 00:00:00+00:00</td>\n",
       "    </tr>\n",
       "    <tr>\n",
       "      <th>1</th>\n",
       "      <td>Spain</td>\n",
       "      <td>ES</td>\n",
       "      <td></td>\n",
       "      <td></td>\n",
       "      <td></td>\n",
       "      <td>40.46</td>\n",
       "      <td>-3.75</td>\n",
       "      <td>0</td>\n",
       "      <td>confirmed</td>\n",
       "      <td>2020-01-23 00:00:00+00:00</td>\n",
       "    </tr>\n",
       "    <tr>\n",
       "      <th>2</th>\n",
       "      <td>Spain</td>\n",
       "      <td>ES</td>\n",
       "      <td></td>\n",
       "      <td></td>\n",
       "      <td></td>\n",
       "      <td>40.46</td>\n",
       "      <td>-3.75</td>\n",
       "      <td>0</td>\n",
       "      <td>confirmed</td>\n",
       "      <td>2020-01-24 00:00:00+00:00</td>\n",
       "    </tr>\n",
       "    <tr>\n",
       "      <th>3</th>\n",
       "      <td>Spain</td>\n",
       "      <td>ES</td>\n",
       "      <td></td>\n",
       "      <td></td>\n",
       "      <td></td>\n",
       "      <td>40.46</td>\n",
       "      <td>-3.75</td>\n",
       "      <td>0</td>\n",
       "      <td>confirmed</td>\n",
       "      <td>2020-01-25 00:00:00+00:00</td>\n",
       "    </tr>\n",
       "    <tr>\n",
       "      <th>4</th>\n",
       "      <td>Spain</td>\n",
       "      <td>ES</td>\n",
       "      <td></td>\n",
       "      <td></td>\n",
       "      <td></td>\n",
       "      <td>40.46</td>\n",
       "      <td>-3.75</td>\n",
       "      <td>0</td>\n",
       "      <td>confirmed</td>\n",
       "      <td>2020-01-26 00:00:00+00:00</td>\n",
       "    </tr>\n",
       "    <tr>\n",
       "      <th>...</th>\n",
       "      <td>...</td>\n",
       "      <td>...</td>\n",
       "      <td>...</td>\n",
       "      <td>...</td>\n",
       "      <td>...</td>\n",
       "      <td>...</td>\n",
       "      <td>...</td>\n",
       "      <td>...</td>\n",
       "      <td>...</td>\n",
       "      <td>...</td>\n",
       "    </tr>\n",
       "    <tr>\n",
       "      <th>794</th>\n",
       "      <td>Spain</td>\n",
       "      <td>ES</td>\n",
       "      <td></td>\n",
       "      <td></td>\n",
       "      <td></td>\n",
       "      <td>40.46</td>\n",
       "      <td>-3.75</td>\n",
       "      <td>11451676</td>\n",
       "      <td>confirmed</td>\n",
       "      <td>2022-03-26 00:00:00+00:00</td>\n",
       "    </tr>\n",
       "    <tr>\n",
       "      <th>795</th>\n",
       "      <td>Spain</td>\n",
       "      <td>ES</td>\n",
       "      <td></td>\n",
       "      <td></td>\n",
       "      <td></td>\n",
       "      <td>40.46</td>\n",
       "      <td>-3.75</td>\n",
       "      <td>11451676</td>\n",
       "      <td>confirmed</td>\n",
       "      <td>2022-03-27 00:00:00+00:00</td>\n",
       "    </tr>\n",
       "    <tr>\n",
       "      <th>796</th>\n",
       "      <td>Spain</td>\n",
       "      <td>ES</td>\n",
       "      <td></td>\n",
       "      <td></td>\n",
       "      <td></td>\n",
       "      <td>40.46</td>\n",
       "      <td>-3.75</td>\n",
       "      <td>11451676</td>\n",
       "      <td>confirmed</td>\n",
       "      <td>2022-03-28 00:00:00+00:00</td>\n",
       "    </tr>\n",
       "    <tr>\n",
       "      <th>797</th>\n",
       "      <td>Spain</td>\n",
       "      <td>ES</td>\n",
       "      <td></td>\n",
       "      <td></td>\n",
       "      <td></td>\n",
       "      <td>40.46</td>\n",
       "      <td>-3.75</td>\n",
       "      <td>11508309</td>\n",
       "      <td>confirmed</td>\n",
       "      <td>2022-03-29 00:00:00+00:00</td>\n",
       "    </tr>\n",
       "    <tr>\n",
       "      <th>798</th>\n",
       "      <td>Spain</td>\n",
       "      <td>ES</td>\n",
       "      <td></td>\n",
       "      <td></td>\n",
       "      <td></td>\n",
       "      <td>40.46</td>\n",
       "      <td>-3.75</td>\n",
       "      <td>11508309</td>\n",
       "      <td>confirmed</td>\n",
       "      <td>2022-03-30 00:00:00+00:00</td>\n",
       "    </tr>\n",
       "  </tbody>\n",
       "</table>\n",
       "<p>799 rows × 10 columns</p>\n",
       "</div>"
      ],
      "text/plain": [
       "    Country CountryCode Province City CityCode    Lat   Lon     Cases  \\\n",
       "0     Spain          ES                         40.46 -3.75         0   \n",
       "1     Spain          ES                         40.46 -3.75         0   \n",
       "2     Spain          ES                         40.46 -3.75         0   \n",
       "3     Spain          ES                         40.46 -3.75         0   \n",
       "4     Spain          ES                         40.46 -3.75         0   \n",
       "..      ...         ...      ...  ...      ...    ...   ...       ...   \n",
       "794   Spain          ES                         40.46 -3.75  11451676   \n",
       "795   Spain          ES                         40.46 -3.75  11451676   \n",
       "796   Spain          ES                         40.46 -3.75  11451676   \n",
       "797   Spain          ES                         40.46 -3.75  11508309   \n",
       "798   Spain          ES                         40.46 -3.75  11508309   \n",
       "\n",
       "        Status                      Date  \n",
       "0    confirmed 2020-01-22 00:00:00+00:00  \n",
       "1    confirmed 2020-01-23 00:00:00+00:00  \n",
       "2    confirmed 2020-01-24 00:00:00+00:00  \n",
       "3    confirmed 2020-01-25 00:00:00+00:00  \n",
       "4    confirmed 2020-01-26 00:00:00+00:00  \n",
       "..         ...                       ...  \n",
       "794  confirmed 2022-03-26 00:00:00+00:00  \n",
       "795  confirmed 2022-03-27 00:00:00+00:00  \n",
       "796  confirmed 2022-03-28 00:00:00+00:00  \n",
       "797  confirmed 2022-03-29 00:00:00+00:00  \n",
       "798  confirmed 2022-03-30 00:00:00+00:00  \n",
       "\n",
       "[799 rows x 10 columns]"
      ]
     },
     "execution_count": 49,
     "metadata": {},
     "output_type": "execute_result"
    }
   ],
   "source": [
    "url_es = 'https://api.covid19api.com/country/spain/status/confirmed/live'\n",
    "df_es = pd.read_json(url_es)\n",
    "df_es"
   ]
  },
  {
   "cell_type": "markdown",
   "id": "72196081",
   "metadata": {},
   "source": [
    "Para conocer toda la información de la tabla tenemos que hacerlo con el código `df_es.info`, como podemos ver a continuación."
   ]
  },
  {
   "cell_type": "code",
   "execution_count": 50,
   "id": "432f0fde",
   "metadata": {
    "scrolled": true
   },
   "outputs": [
    {
     "name": "stdout",
     "output_type": "stream",
     "text": [
      "<class 'pandas.core.frame.DataFrame'>\n",
      "RangeIndex: 799 entries, 0 to 798\n",
      "Data columns (total 10 columns):\n",
      " #   Column       Non-Null Count  Dtype              \n",
      "---  ------       --------------  -----              \n",
      " 0   Country      799 non-null    object             \n",
      " 1   CountryCode  799 non-null    object             \n",
      " 2   Province     799 non-null    object             \n",
      " 3   City         799 non-null    object             \n",
      " 4   CityCode     799 non-null    object             \n",
      " 5   Lat          799 non-null    float64            \n",
      " 6   Lon          799 non-null    float64            \n",
      " 7   Cases        799 non-null    int64              \n",
      " 8   Status       799 non-null    object             \n",
      " 9   Date         799 non-null    datetime64[ns, UTC]\n",
      "dtypes: datetime64[ns, UTC](1), float64(2), int64(1), object(6)\n",
      "memory usage: 62.5+ KB\n"
     ]
    }
   ],
   "source": [
    "df_es.info()"
   ]
  },
  {
   "cell_type": "markdown",
   "id": "b4b85ea3",
   "metadata": {},
   "source": [
    "Ahora queremos hacer un gráfico de línea con los casos que hay en España de coronavirus, con todos los datos del histórico. Para hacerlo tenemos que convertir la columna del `dato de fecha` en la `columna del indice`. Para ello usaremos la función `set_index` para luego, entre paréntesis, añadir que columnas queremos ver primero."
   ]
  },
  {
   "cell_type": "code",
   "execution_count": 51,
   "id": "6f14f289",
   "metadata": {},
   "outputs": [
    {
     "data": {
      "text/html": [
       "<div>\n",
       "<style scoped>\n",
       "    .dataframe tbody tr th:only-of-type {\n",
       "        vertical-align: middle;\n",
       "    }\n",
       "\n",
       "    .dataframe tbody tr th {\n",
       "        vertical-align: top;\n",
       "    }\n",
       "\n",
       "    .dataframe thead th {\n",
       "        text-align: right;\n",
       "    }\n",
       "</style>\n",
       "<table border=\"1\" class=\"dataframe\">\n",
       "  <thead>\n",
       "    <tr style=\"text-align: right;\">\n",
       "      <th></th>\n",
       "      <th>Country</th>\n",
       "      <th>CountryCode</th>\n",
       "      <th>Province</th>\n",
       "      <th>City</th>\n",
       "      <th>CityCode</th>\n",
       "      <th>Lat</th>\n",
       "      <th>Lon</th>\n",
       "      <th>Cases</th>\n",
       "      <th>Status</th>\n",
       "    </tr>\n",
       "    <tr>\n",
       "      <th>Date</th>\n",
       "      <th></th>\n",
       "      <th></th>\n",
       "      <th></th>\n",
       "      <th></th>\n",
       "      <th></th>\n",
       "      <th></th>\n",
       "      <th></th>\n",
       "      <th></th>\n",
       "      <th></th>\n",
       "    </tr>\n",
       "  </thead>\n",
       "  <tbody>\n",
       "    <tr>\n",
       "      <th>2020-01-22 00:00:00+00:00</th>\n",
       "      <td>Spain</td>\n",
       "      <td>ES</td>\n",
       "      <td></td>\n",
       "      <td></td>\n",
       "      <td></td>\n",
       "      <td>40.46</td>\n",
       "      <td>-3.75</td>\n",
       "      <td>0</td>\n",
       "      <td>confirmed</td>\n",
       "    </tr>\n",
       "    <tr>\n",
       "      <th>2020-01-23 00:00:00+00:00</th>\n",
       "      <td>Spain</td>\n",
       "      <td>ES</td>\n",
       "      <td></td>\n",
       "      <td></td>\n",
       "      <td></td>\n",
       "      <td>40.46</td>\n",
       "      <td>-3.75</td>\n",
       "      <td>0</td>\n",
       "      <td>confirmed</td>\n",
       "    </tr>\n",
       "    <tr>\n",
       "      <th>2020-01-24 00:00:00+00:00</th>\n",
       "      <td>Spain</td>\n",
       "      <td>ES</td>\n",
       "      <td></td>\n",
       "      <td></td>\n",
       "      <td></td>\n",
       "      <td>40.46</td>\n",
       "      <td>-3.75</td>\n",
       "      <td>0</td>\n",
       "      <td>confirmed</td>\n",
       "    </tr>\n",
       "    <tr>\n",
       "      <th>2020-01-25 00:00:00+00:00</th>\n",
       "      <td>Spain</td>\n",
       "      <td>ES</td>\n",
       "      <td></td>\n",
       "      <td></td>\n",
       "      <td></td>\n",
       "      <td>40.46</td>\n",
       "      <td>-3.75</td>\n",
       "      <td>0</td>\n",
       "      <td>confirmed</td>\n",
       "    </tr>\n",
       "    <tr>\n",
       "      <th>2020-01-26 00:00:00+00:00</th>\n",
       "      <td>Spain</td>\n",
       "      <td>ES</td>\n",
       "      <td></td>\n",
       "      <td></td>\n",
       "      <td></td>\n",
       "      <td>40.46</td>\n",
       "      <td>-3.75</td>\n",
       "      <td>0</td>\n",
       "      <td>confirmed</td>\n",
       "    </tr>\n",
       "    <tr>\n",
       "      <th>...</th>\n",
       "      <td>...</td>\n",
       "      <td>...</td>\n",
       "      <td>...</td>\n",
       "      <td>...</td>\n",
       "      <td>...</td>\n",
       "      <td>...</td>\n",
       "      <td>...</td>\n",
       "      <td>...</td>\n",
       "      <td>...</td>\n",
       "    </tr>\n",
       "    <tr>\n",
       "      <th>2022-03-26 00:00:00+00:00</th>\n",
       "      <td>Spain</td>\n",
       "      <td>ES</td>\n",
       "      <td></td>\n",
       "      <td></td>\n",
       "      <td></td>\n",
       "      <td>40.46</td>\n",
       "      <td>-3.75</td>\n",
       "      <td>11451676</td>\n",
       "      <td>confirmed</td>\n",
       "    </tr>\n",
       "    <tr>\n",
       "      <th>2022-03-27 00:00:00+00:00</th>\n",
       "      <td>Spain</td>\n",
       "      <td>ES</td>\n",
       "      <td></td>\n",
       "      <td></td>\n",
       "      <td></td>\n",
       "      <td>40.46</td>\n",
       "      <td>-3.75</td>\n",
       "      <td>11451676</td>\n",
       "      <td>confirmed</td>\n",
       "    </tr>\n",
       "    <tr>\n",
       "      <th>2022-03-28 00:00:00+00:00</th>\n",
       "      <td>Spain</td>\n",
       "      <td>ES</td>\n",
       "      <td></td>\n",
       "      <td></td>\n",
       "      <td></td>\n",
       "      <td>40.46</td>\n",
       "      <td>-3.75</td>\n",
       "      <td>11451676</td>\n",
       "      <td>confirmed</td>\n",
       "    </tr>\n",
       "    <tr>\n",
       "      <th>2022-03-29 00:00:00+00:00</th>\n",
       "      <td>Spain</td>\n",
       "      <td>ES</td>\n",
       "      <td></td>\n",
       "      <td></td>\n",
       "      <td></td>\n",
       "      <td>40.46</td>\n",
       "      <td>-3.75</td>\n",
       "      <td>11508309</td>\n",
       "      <td>confirmed</td>\n",
       "    </tr>\n",
       "    <tr>\n",
       "      <th>2022-03-30 00:00:00+00:00</th>\n",
       "      <td>Spain</td>\n",
       "      <td>ES</td>\n",
       "      <td></td>\n",
       "      <td></td>\n",
       "      <td></td>\n",
       "      <td>40.46</td>\n",
       "      <td>-3.75</td>\n",
       "      <td>11508309</td>\n",
       "      <td>confirmed</td>\n",
       "    </tr>\n",
       "  </tbody>\n",
       "</table>\n",
       "<p>799 rows × 9 columns</p>\n",
       "</div>"
      ],
      "text/plain": [
       "                          Country CountryCode Province City CityCode    Lat  \\\n",
       "Date                                                                          \n",
       "2020-01-22 00:00:00+00:00   Spain          ES                         40.46   \n",
       "2020-01-23 00:00:00+00:00   Spain          ES                         40.46   \n",
       "2020-01-24 00:00:00+00:00   Spain          ES                         40.46   \n",
       "2020-01-25 00:00:00+00:00   Spain          ES                         40.46   \n",
       "2020-01-26 00:00:00+00:00   Spain          ES                         40.46   \n",
       "...                           ...         ...      ...  ...      ...    ...   \n",
       "2022-03-26 00:00:00+00:00   Spain          ES                         40.46   \n",
       "2022-03-27 00:00:00+00:00   Spain          ES                         40.46   \n",
       "2022-03-28 00:00:00+00:00   Spain          ES                         40.46   \n",
       "2022-03-29 00:00:00+00:00   Spain          ES                         40.46   \n",
       "2022-03-30 00:00:00+00:00   Spain          ES                         40.46   \n",
       "\n",
       "                            Lon     Cases     Status  \n",
       "Date                                                  \n",
       "2020-01-22 00:00:00+00:00 -3.75         0  confirmed  \n",
       "2020-01-23 00:00:00+00:00 -3.75         0  confirmed  \n",
       "2020-01-24 00:00:00+00:00 -3.75         0  confirmed  \n",
       "2020-01-25 00:00:00+00:00 -3.75         0  confirmed  \n",
       "2020-01-26 00:00:00+00:00 -3.75         0  confirmed  \n",
       "...                         ...       ...        ...  \n",
       "2022-03-26 00:00:00+00:00 -3.75  11451676  confirmed  \n",
       "2022-03-27 00:00:00+00:00 -3.75  11451676  confirmed  \n",
       "2022-03-28 00:00:00+00:00 -3.75  11451676  confirmed  \n",
       "2022-03-29 00:00:00+00:00 -3.75  11508309  confirmed  \n",
       "2022-03-30 00:00:00+00:00 -3.75  11508309  confirmed  \n",
       "\n",
       "[799 rows x 9 columns]"
      ]
     },
     "execution_count": 51,
     "metadata": {},
     "output_type": "execute_result"
    }
   ],
   "source": [
    "df_es.set_index('Date')"
   ]
  },
  {
   "cell_type": "markdown",
   "id": "91dba6e8",
   "metadata": {},
   "source": [
    "Ahora, si queremos que la columna tenga un orden específico y que empiece por un valor específico y continue con otro en particular de los que disponemos, tenemos que ordenarlo de la siguiente manera, el primero entre paréntesis y el segundo entre corchetes. Nosotros queremos que empiece por las fechas y que continúe con los casos."
   ]
  },
  {
   "cell_type": "code",
   "execution_count": 52,
   "id": "3e81d3de",
   "metadata": {
    "scrolled": true
   },
   "outputs": [
    {
     "data": {
      "text/plain": [
       "Date\n",
       "2020-01-22 00:00:00+00:00           0\n",
       "2020-01-23 00:00:00+00:00           0\n",
       "2020-01-24 00:00:00+00:00           0\n",
       "2020-01-25 00:00:00+00:00           0\n",
       "2020-01-26 00:00:00+00:00           0\n",
       "                               ...   \n",
       "2022-03-26 00:00:00+00:00    11451676\n",
       "2022-03-27 00:00:00+00:00    11451676\n",
       "2022-03-28 00:00:00+00:00    11451676\n",
       "2022-03-29 00:00:00+00:00    11508309\n",
       "2022-03-30 00:00:00+00:00    11508309\n",
       "Name: Cases, Length: 799, dtype: int64"
      ]
     },
     "execution_count": 52,
     "metadata": {},
     "output_type": "execute_result"
    }
   ],
   "source": [
    "df_es.set_index('Date')['Cases']"
   ]
  },
  {
   "cell_type": "markdown",
   "id": "0ac9527c",
   "metadata": {},
   "source": [
    "Si queremos crear una gráfica con estos valores, tenemos que usar la siguiente fórmula en la que utilizaremos un `plot`, en este caso mostramos los casos de coronavirus en una gráfica de línea"
   ]
  },
  {
   "cell_type": "code",
   "execution_count": 53,
   "id": "ff0efe7a",
   "metadata": {},
   "outputs": [
    {
     "data": {
      "text/plain": [
       "<AxesSubplot:xlabel='Date'>"
      ]
     },
     "execution_count": 53,
     "metadata": {},
     "output_type": "execute_result"
    },
    {
     "data": {
      "image/png": "[encoded data removed]",
      "text/plain": [
       "<Figure size 432x288 with 1 Axes>"
      ]
     },
     "metadata": {
      "needs_background": "light"
     },
     "output_type": "display_data"
    }
   ],
   "source": [
    "df_es.set_index('Date')['Cases'].plot()"
   ]
  },
  {
   "cell_type": "markdown",
   "id": "788621d5",
   "metadata": {},
   "source": [
    "Queremos que la tabla tenga un título, para ello usamos tras `plot` un paréntesis para darle el nombre que queremos a la tabla"
   ]
  },
  {
   "cell_type": "code",
   "execution_count": 54,
   "id": "858e885f",
   "metadata": {},
   "outputs": [
    {
     "data": {
      "text/plain": [
       "<AxesSubplot:title={'center':'Casos de Covid-19 en España'}, xlabel='Date'>"
      ]
     },
     "execution_count": 54,
     "metadata": {},
     "output_type": "execute_result"
    },
    {
     "data": {
      "image/png": "[encoded data removed]",
      "text/plain": [
       "<Figure size 432x288 with 1 Axes>"
      ]
     },
     "metadata": {
      "needs_background": "light"
     },
     "output_type": "display_data"
    }
   ],
   "source": [
    "df_es.set_index('Date')['Cases'].plot(title=\"Casos de Covid-19 en España\")"
   ]
  },
  {
   "cell_type": "markdown",
   "id": "08e163fd",
   "metadata": {},
   "source": [
    "## Tiempo real Colombia"
   ]
  },
  {
   "cell_type": "markdown",
   "id": "1057cfc2",
   "metadata": {},
   "source": [
    "También lo podemos hacer con los datos de colombia, cambiando la variable `es` por la variable `co`, correspondiente a este país."
   ]
  },
  {
   "cell_type": "code",
   "execution_count": 55,
   "id": "ab5deb3b",
   "metadata": {},
   "outputs": [
    {
     "data": {
      "text/plain": [
       "<AxesSubplot:title={'center':'Datos de Covid-19 en Colombia'}, xlabel='Date'>"
      ]
     },
     "execution_count": 55,
     "metadata": {},
     "output_type": "execute_result"
    },
    {
     "data": {
      "image/png": "[encoded data removed]",
      "text/plain": [
       "<Figure size 432x288 with 1 Axes>"
      ]
     },
     "metadata": {
      "needs_background": "light"
     },
     "output_type": "display_data"
    }
   ],
   "source": [
    "url_co = 'https://api.covid19api.com/country/colombia/status/confirmed/live'\n",
    "df_co = pd.read_json(url_co)\n",
    "df_co.set_index('Date')['Cases'].plot(title='Datos de Covid-19 en Colombia')"
   ]
  },
  {
   "cell_type": "markdown",
   "id": "955aa90f",
   "metadata": {},
   "source": [
    "## Comparativa España-Colombia"
   ]
  },
  {
   "cell_type": "markdown",
   "id": "f6281bf0",
   "metadata": {},
   "source": [
    "También podemos hacer gráficos en los que comparamos varios datos. Para eso tenemos que utilizar las dos variables de casos, la de `es` y la de `co`. De esta forma, ejecutandolo, podremos ver la tabla de cada uno y, posteriormente, un gráfico que nos muestre los dos datos."
   ]
  },
  {
   "cell_type": "code",
   "execution_count": 56,
   "id": "4f45f0a6",
   "metadata": {},
   "outputs": [],
   "source": [
    "casos_es = df_es.set_index('Date')['Cases']\n",
    "casos_co = df_co.set_index('Date')['Cases']"
   ]
  },
  {
   "cell_type": "code",
   "execution_count": 57,
   "id": "d5e7c494",
   "metadata": {},
   "outputs": [
    {
     "data": {
      "text/plain": [
       "Date\n",
       "2020-01-22 00:00:00+00:00          0\n",
       "2020-01-23 00:00:00+00:00          0\n",
       "2020-01-24 00:00:00+00:00          0\n",
       "2020-01-25 00:00:00+00:00          0\n",
       "2020-01-26 00:00:00+00:00          0\n",
       "                              ...   \n",
       "2022-03-26 00:00:00+00:00    6083291\n",
       "2022-03-27 00:00:00+00:00    6083643\n",
       "2022-03-28 00:00:00+00:00    6083939\n",
       "2022-03-29 00:00:00+00:00    6084240\n",
       "2022-03-30 00:00:00+00:00    6084551\n",
       "Name: Cases, Length: 799, dtype: int64"
      ]
     },
     "execution_count": 57,
     "metadata": {},
     "output_type": "execute_result"
    }
   ],
   "source": [
    "casos_co"
   ]
  },
  {
   "cell_type": "code",
   "execution_count": 58,
   "id": "da56f1f1",
   "metadata": {},
   "outputs": [
    {
     "data": {
      "text/plain": [
       "Date\n",
       "2020-01-22 00:00:00+00:00           0\n",
       "2020-01-23 00:00:00+00:00           0\n",
       "2020-01-24 00:00:00+00:00           0\n",
       "2020-01-25 00:00:00+00:00           0\n",
       "2020-01-26 00:00:00+00:00           0\n",
       "                               ...   \n",
       "2022-03-26 00:00:00+00:00    11451676\n",
       "2022-03-27 00:00:00+00:00    11451676\n",
       "2022-03-28 00:00:00+00:00    11451676\n",
       "2022-03-29 00:00:00+00:00    11508309\n",
       "2022-03-30 00:00:00+00:00    11508309\n",
       "Name: Cases, Length: 799, dtype: int64"
      ]
     },
     "execution_count": 58,
     "metadata": {},
     "output_type": "execute_result"
    }
   ],
   "source": [
    "casos_es"
   ]
  },
  {
   "cell_type": "code",
   "execution_count": 59,
   "id": "207d583b",
   "metadata": {},
   "outputs": [
    {
     "data": {
      "text/html": [
       "<div>\n",
       "<style scoped>\n",
       "    .dataframe tbody tr th:only-of-type {\n",
       "        vertical-align: middle;\n",
       "    }\n",
       "\n",
       "    .dataframe tbody tr th {\n",
       "        vertical-align: top;\n",
       "    }\n",
       "\n",
       "    .dataframe thead th {\n",
       "        text-align: right;\n",
       "    }\n",
       "</style>\n",
       "<table border=\"1\" class=\"dataframe\">\n",
       "  <thead>\n",
       "    <tr style=\"text-align: right;\">\n",
       "      <th></th>\n",
       "      <th>Cases</th>\n",
       "      <th>Cases</th>\n",
       "    </tr>\n",
       "    <tr>\n",
       "      <th>Date</th>\n",
       "      <th></th>\n",
       "      <th></th>\n",
       "    </tr>\n",
       "  </thead>\n",
       "  <tbody>\n",
       "    <tr>\n",
       "      <th>2020-01-22 00:00:00+00:00</th>\n",
       "      <td>0</td>\n",
       "      <td>0</td>\n",
       "    </tr>\n",
       "    <tr>\n",
       "      <th>2020-01-23 00:00:00+00:00</th>\n",
       "      <td>0</td>\n",
       "      <td>0</td>\n",
       "    </tr>\n",
       "    <tr>\n",
       "      <th>2020-01-24 00:00:00+00:00</th>\n",
       "      <td>0</td>\n",
       "      <td>0</td>\n",
       "    </tr>\n",
       "    <tr>\n",
       "      <th>2020-01-25 00:00:00+00:00</th>\n",
       "      <td>0</td>\n",
       "      <td>0</td>\n",
       "    </tr>\n",
       "    <tr>\n",
       "      <th>2020-01-26 00:00:00+00:00</th>\n",
       "      <td>0</td>\n",
       "      <td>0</td>\n",
       "    </tr>\n",
       "    <tr>\n",
       "      <th>...</th>\n",
       "      <td>...</td>\n",
       "      <td>...</td>\n",
       "    </tr>\n",
       "    <tr>\n",
       "      <th>2022-03-26 00:00:00+00:00</th>\n",
       "      <td>11451676</td>\n",
       "      <td>6083291</td>\n",
       "    </tr>\n",
       "    <tr>\n",
       "      <th>2022-03-27 00:00:00+00:00</th>\n",
       "      <td>11451676</td>\n",
       "      <td>6083643</td>\n",
       "    </tr>\n",
       "    <tr>\n",
       "      <th>2022-03-28 00:00:00+00:00</th>\n",
       "      <td>11451676</td>\n",
       "      <td>6083939</td>\n",
       "    </tr>\n",
       "    <tr>\n",
       "      <th>2022-03-29 00:00:00+00:00</th>\n",
       "      <td>11508309</td>\n",
       "      <td>6084240</td>\n",
       "    </tr>\n",
       "    <tr>\n",
       "      <th>2022-03-30 00:00:00+00:00</th>\n",
       "      <td>11508309</td>\n",
       "      <td>6084551</td>\n",
       "    </tr>\n",
       "  </tbody>\n",
       "</table>\n",
       "<p>799 rows × 2 columns</p>\n",
       "</div>"
      ],
      "text/plain": [
       "                              Cases    Cases\n",
       "Date                                        \n",
       "2020-01-22 00:00:00+00:00         0        0\n",
       "2020-01-23 00:00:00+00:00         0        0\n",
       "2020-01-24 00:00:00+00:00         0        0\n",
       "2020-01-25 00:00:00+00:00         0        0\n",
       "2020-01-26 00:00:00+00:00         0        0\n",
       "...                             ...      ...\n",
       "2022-03-26 00:00:00+00:00  11451676  6083291\n",
       "2022-03-27 00:00:00+00:00  11451676  6083643\n",
       "2022-03-28 00:00:00+00:00  11451676  6083939\n",
       "2022-03-29 00:00:00+00:00  11508309  6084240\n",
       "2022-03-30 00:00:00+00:00  11508309  6084551\n",
       "\n",
       "[799 rows x 2 columns]"
      ]
     },
     "execution_count": 59,
     "metadata": {},
     "output_type": "execute_result"
    }
   ],
   "source": [
    "pd.concat([casos_es,casos_co],axis=1)"
   ]
  },
  {
   "cell_type": "code",
   "execution_count": 60,
   "id": "63e4beac",
   "metadata": {},
   "outputs": [
    {
     "data": {
      "text/html": [
       "<div>\n",
       "<style scoped>\n",
       "    .dataframe tbody tr th:only-of-type {\n",
       "        vertical-align: middle;\n",
       "    }\n",
       "\n",
       "    .dataframe tbody tr th {\n",
       "        vertical-align: top;\n",
       "    }\n",
       "\n",
       "    .dataframe thead th {\n",
       "        text-align: right;\n",
       "    }\n",
       "</style>\n",
       "<table border=\"1\" class=\"dataframe\">\n",
       "  <thead>\n",
       "    <tr style=\"text-align: right;\">\n",
       "      <th></th>\n",
       "      <th>Cases</th>\n",
       "      <th>Cases</th>\n",
       "    </tr>\n",
       "    <tr>\n",
       "      <th>Date</th>\n",
       "      <th></th>\n",
       "      <th></th>\n",
       "    </tr>\n",
       "  </thead>\n",
       "  <tbody>\n",
       "    <tr>\n",
       "      <th>2020-01-22 00:00:00+00:00</th>\n",
       "      <td>0</td>\n",
       "      <td>0</td>\n",
       "    </tr>\n",
       "    <tr>\n",
       "      <th>2020-01-23 00:00:00+00:00</th>\n",
       "      <td>0</td>\n",
       "      <td>0</td>\n",
       "    </tr>\n",
       "    <tr>\n",
       "      <th>2020-01-24 00:00:00+00:00</th>\n",
       "      <td>0</td>\n",
       "      <td>0</td>\n",
       "    </tr>\n",
       "    <tr>\n",
       "      <th>2020-01-25 00:00:00+00:00</th>\n",
       "      <td>0</td>\n",
       "      <td>0</td>\n",
       "    </tr>\n",
       "    <tr>\n",
       "      <th>2020-01-26 00:00:00+00:00</th>\n",
       "      <td>0</td>\n",
       "      <td>0</td>\n",
       "    </tr>\n",
       "    <tr>\n",
       "      <th>...</th>\n",
       "      <td>...</td>\n",
       "      <td>...</td>\n",
       "    </tr>\n",
       "    <tr>\n",
       "      <th>2022-03-26 00:00:00+00:00</th>\n",
       "      <td>11451676</td>\n",
       "      <td>6083291</td>\n",
       "    </tr>\n",
       "    <tr>\n",
       "      <th>2022-03-27 00:00:00+00:00</th>\n",
       "      <td>11451676</td>\n",
       "      <td>6083643</td>\n",
       "    </tr>\n",
       "    <tr>\n",
       "      <th>2022-03-28 00:00:00+00:00</th>\n",
       "      <td>11451676</td>\n",
       "      <td>6083939</td>\n",
       "    </tr>\n",
       "    <tr>\n",
       "      <th>2022-03-29 00:00:00+00:00</th>\n",
       "      <td>11508309</td>\n",
       "      <td>6084240</td>\n",
       "    </tr>\n",
       "    <tr>\n",
       "      <th>2022-03-30 00:00:00+00:00</th>\n",
       "      <td>11508309</td>\n",
       "      <td>6084551</td>\n",
       "    </tr>\n",
       "  </tbody>\n",
       "</table>\n",
       "<p>799 rows × 2 columns</p>\n",
       "</div>"
      ],
      "text/plain": [
       "                              Cases    Cases\n",
       "Date                                        \n",
       "2020-01-22 00:00:00+00:00         0        0\n",
       "2020-01-23 00:00:00+00:00         0        0\n",
       "2020-01-24 00:00:00+00:00         0        0\n",
       "2020-01-25 00:00:00+00:00         0        0\n",
       "2020-01-26 00:00:00+00:00         0        0\n",
       "...                             ...      ...\n",
       "2022-03-26 00:00:00+00:00  11451676  6083291\n",
       "2022-03-27 00:00:00+00:00  11451676  6083643\n",
       "2022-03-28 00:00:00+00:00  11451676  6083939\n",
       "2022-03-29 00:00:00+00:00  11508309  6084240\n",
       "2022-03-30 00:00:00+00:00  11508309  6084551\n",
       "\n",
       "[799 rows x 2 columns]"
      ]
     },
     "execution_count": 60,
     "metadata": {},
     "output_type": "execute_result"
    }
   ],
   "source": [
    "vs = pd.concat([casos_es,casos_co],axis=1)\n",
    "vs"
   ]
  },
  {
   "cell_type": "markdown",
   "id": "e95d98d8",
   "metadata": {},
   "source": [
    "Ahora le vamos a decir que `vs` sea igual a España y Colombia, para no tener que poner luego la formula completa, sino simplemente nos funcione poniendo `vs`"
   ]
  },
  {
   "cell_type": "code",
   "execution_count": 61,
   "id": "c7e136cc",
   "metadata": {},
   "outputs": [
    {
     "data": {
      "text/html": [
       "<div>\n",
       "<style scoped>\n",
       "    .dataframe tbody tr th:only-of-type {\n",
       "        vertical-align: middle;\n",
       "    }\n",
       "\n",
       "    .dataframe tbody tr th {\n",
       "        vertical-align: top;\n",
       "    }\n",
       "\n",
       "    .dataframe thead th {\n",
       "        text-align: right;\n",
       "    }\n",
       "</style>\n",
       "<table border=\"1\" class=\"dataframe\">\n",
       "  <thead>\n",
       "    <tr style=\"text-align: right;\">\n",
       "      <th></th>\n",
       "      <th>España</th>\n",
       "      <th>Colombia</th>\n",
       "    </tr>\n",
       "    <tr>\n",
       "      <th>Date</th>\n",
       "      <th></th>\n",
       "      <th></th>\n",
       "    </tr>\n",
       "  </thead>\n",
       "  <tbody>\n",
       "    <tr>\n",
       "      <th>2020-01-22 00:00:00+00:00</th>\n",
       "      <td>0</td>\n",
       "      <td>0</td>\n",
       "    </tr>\n",
       "    <tr>\n",
       "      <th>2020-01-23 00:00:00+00:00</th>\n",
       "      <td>0</td>\n",
       "      <td>0</td>\n",
       "    </tr>\n",
       "    <tr>\n",
       "      <th>2020-01-24 00:00:00+00:00</th>\n",
       "      <td>0</td>\n",
       "      <td>0</td>\n",
       "    </tr>\n",
       "    <tr>\n",
       "      <th>2020-01-25 00:00:00+00:00</th>\n",
       "      <td>0</td>\n",
       "      <td>0</td>\n",
       "    </tr>\n",
       "    <tr>\n",
       "      <th>2020-01-26 00:00:00+00:00</th>\n",
       "      <td>0</td>\n",
       "      <td>0</td>\n",
       "    </tr>\n",
       "    <tr>\n",
       "      <th>...</th>\n",
       "      <td>...</td>\n",
       "      <td>...</td>\n",
       "    </tr>\n",
       "    <tr>\n",
       "      <th>2022-03-26 00:00:00+00:00</th>\n",
       "      <td>11451676</td>\n",
       "      <td>6083291</td>\n",
       "    </tr>\n",
       "    <tr>\n",
       "      <th>2022-03-27 00:00:00+00:00</th>\n",
       "      <td>11451676</td>\n",
       "      <td>6083643</td>\n",
       "    </tr>\n",
       "    <tr>\n",
       "      <th>2022-03-28 00:00:00+00:00</th>\n",
       "      <td>11451676</td>\n",
       "      <td>6083939</td>\n",
       "    </tr>\n",
       "    <tr>\n",
       "      <th>2022-03-29 00:00:00+00:00</th>\n",
       "      <td>11508309</td>\n",
       "      <td>6084240</td>\n",
       "    </tr>\n",
       "    <tr>\n",
       "      <th>2022-03-30 00:00:00+00:00</th>\n",
       "      <td>11508309</td>\n",
       "      <td>6084551</td>\n",
       "    </tr>\n",
       "  </tbody>\n",
       "</table>\n",
       "<p>799 rows × 2 columns</p>\n",
       "</div>"
      ],
      "text/plain": [
       "                             España  Colombia\n",
       "Date                                         \n",
       "2020-01-22 00:00:00+00:00         0         0\n",
       "2020-01-23 00:00:00+00:00         0         0\n",
       "2020-01-24 00:00:00+00:00         0         0\n",
       "2020-01-25 00:00:00+00:00         0         0\n",
       "2020-01-26 00:00:00+00:00         0         0\n",
       "...                             ...       ...\n",
       "2022-03-26 00:00:00+00:00  11451676   6083291\n",
       "2022-03-27 00:00:00+00:00  11451676   6083643\n",
       "2022-03-28 00:00:00+00:00  11451676   6083939\n",
       "2022-03-29 00:00:00+00:00  11508309   6084240\n",
       "2022-03-30 00:00:00+00:00  11508309   6084551\n",
       "\n",
       "[799 rows x 2 columns]"
      ]
     },
     "execution_count": 61,
     "metadata": {},
     "output_type": "execute_result"
    }
   ],
   "source": [
    "vs.columns = ['España','Colombia']\n",
    "vs"
   ]
  },
  {
   "cell_type": "markdown",
   "id": "0b221e9c",
   "metadata": {},
   "source": [
    "Si añadimos al paréntesis del plot un `kind=` y utilizamos las varias formas que hay, podemos ver diferentes formas de crear gráficas. Ademas de la que se muestra a continuación `area` tambien existe `bar`, `barh` o `hist`, entre otras"
   ]
  },
  {
   "cell_type": "code",
   "execution_count": 62,
   "id": "1cec5181",
   "metadata": {},
   "outputs": [
    {
     "data": {
      "text/plain": [
       "<AxesSubplot:title={'center':'España VS Colombia'}, xlabel='Date'>"
      ]
     },
     "execution_count": 62,
     "metadata": {},
     "output_type": "execute_result"
    },
    {
     "data": {
      "image/png": "[encoded data removed]",
      "text/plain": [
       "<Figure size 432x288 with 1 Axes>"
      ]
     },
     "metadata": {
      "needs_background": "light"
     },
     "output_type": "display_data"
    }
   ],
   "source": [
    "vs.plot(title=\"España VS Colombia\", kind='area')"
   ]
  },
  {
   "cell_type": "markdown",
   "id": "fdd4981c",
   "metadata": {},
   "source": [
    "## Triple comparativa"
   ]
  },
  {
   "cell_type": "markdown",
   "id": "e8293c8d",
   "metadata": {},
   "source": [
    "También podemos hacer una comparativa entre tres países, y lo hacemos con una variable más. Nosotros hemos añadido portugal, por eso usarmos los datos de `pt` que es el que corresponde al país."
   ]
  },
  {
   "cell_type": "code",
   "execution_count": 63,
   "id": "c5e1685e",
   "metadata": {},
   "outputs": [
    {
     "data": {
      "text/plain": [
       "<AxesSubplot:title={'center':'Triple comparativa España VS Colombia VS Portugal'}, xlabel='Date'>"
      ]
     },
     "execution_count": 63,
     "metadata": {},
     "output_type": "execute_result"
    },
    {
     "data": {
      "image/png": "[encoded data removed]",
      "text/plain": [
       "<Figure size 432x288 with 1 Axes>"
      ]
     },
     "metadata": {
      "needs_background": "light"
     },
     "output_type": "display_data"
    }
   ],
   "source": [
    "url_pt = 'https://api.covid19api.com/country/portugal/status/confirmed/live'\n",
    "df_pt = pd.read_json(url_pt)\n",
    "df_pt.set_index('Date')\n",
    "df_pt.set_index('Date')['Cases']\n",
    "casos_pt = df_pt.set_index('Date')['Cases']\n",
    "vs2 = pd.concat([casos_es,casos_co,casos_pt],axis=1)\n",
    "vs2.columns = ['España','Colombia','Portugal']\n",
    "vs2.plot(title=\"Triple comparativa España VS Colombia VS Portugal\")"
   ]
  },
  {
   "cell_type": "markdown",
   "id": "7260ce7b",
   "metadata": {},
   "source": [
    "## Seleccionar más columnas"
   ]
  },
  {
   "cell_type": "code",
   "execution_count": 64,
   "id": "fe08eabb",
   "metadata": {},
   "outputs": [
    {
     "data": {
      "text/html": [
       "<div>\n",
       "<style scoped>\n",
       "    .dataframe tbody tr th:only-of-type {\n",
       "        vertical-align: middle;\n",
       "    }\n",
       "\n",
       "    .dataframe tbody tr th {\n",
       "        vertical-align: top;\n",
       "    }\n",
       "\n",
       "    .dataframe thead th {\n",
       "        text-align: right;\n",
       "    }\n",
       "</style>\n",
       "<table border=\"1\" class=\"dataframe\">\n",
       "  <thead>\n",
       "    <tr style=\"text-align: right;\">\n",
       "      <th></th>\n",
       "      <th>Cases</th>\n",
       "      <th>Lon</th>\n",
       "    </tr>\n",
       "    <tr>\n",
       "      <th>Date</th>\n",
       "      <th></th>\n",
       "      <th></th>\n",
       "    </tr>\n",
       "  </thead>\n",
       "  <tbody>\n",
       "    <tr>\n",
       "      <th>2020-01-22 00:00:00+00:00</th>\n",
       "      <td>0</td>\n",
       "      <td>-3.75</td>\n",
       "    </tr>\n",
       "    <tr>\n",
       "      <th>2020-01-23 00:00:00+00:00</th>\n",
       "      <td>0</td>\n",
       "      <td>-3.75</td>\n",
       "    </tr>\n",
       "    <tr>\n",
       "      <th>2020-01-24 00:00:00+00:00</th>\n",
       "      <td>0</td>\n",
       "      <td>-3.75</td>\n",
       "    </tr>\n",
       "    <tr>\n",
       "      <th>2020-01-25 00:00:00+00:00</th>\n",
       "      <td>0</td>\n",
       "      <td>-3.75</td>\n",
       "    </tr>\n",
       "    <tr>\n",
       "      <th>2020-01-26 00:00:00+00:00</th>\n",
       "      <td>0</td>\n",
       "      <td>-3.75</td>\n",
       "    </tr>\n",
       "    <tr>\n",
       "      <th>...</th>\n",
       "      <td>...</td>\n",
       "      <td>...</td>\n",
       "    </tr>\n",
       "    <tr>\n",
       "      <th>2022-03-26 00:00:00+00:00</th>\n",
       "      <td>11451676</td>\n",
       "      <td>-3.75</td>\n",
       "    </tr>\n",
       "    <tr>\n",
       "      <th>2022-03-27 00:00:00+00:00</th>\n",
       "      <td>11451676</td>\n",
       "      <td>-3.75</td>\n",
       "    </tr>\n",
       "    <tr>\n",
       "      <th>2022-03-28 00:00:00+00:00</th>\n",
       "      <td>11451676</td>\n",
       "      <td>-3.75</td>\n",
       "    </tr>\n",
       "    <tr>\n",
       "      <th>2022-03-29 00:00:00+00:00</th>\n",
       "      <td>11508309</td>\n",
       "      <td>-3.75</td>\n",
       "    </tr>\n",
       "    <tr>\n",
       "      <th>2022-03-30 00:00:00+00:00</th>\n",
       "      <td>11508309</td>\n",
       "      <td>-3.75</td>\n",
       "    </tr>\n",
       "  </tbody>\n",
       "</table>\n",
       "<p>799 rows × 2 columns</p>\n",
       "</div>"
      ],
      "text/plain": [
       "                              Cases   Lon\n",
       "Date                                     \n",
       "2020-01-22 00:00:00+00:00         0 -3.75\n",
       "2020-01-23 00:00:00+00:00         0 -3.75\n",
       "2020-01-24 00:00:00+00:00         0 -3.75\n",
       "2020-01-25 00:00:00+00:00         0 -3.75\n",
       "2020-01-26 00:00:00+00:00         0 -3.75\n",
       "...                             ...   ...\n",
       "2022-03-26 00:00:00+00:00  11451676 -3.75\n",
       "2022-03-27 00:00:00+00:00  11451676 -3.75\n",
       "2022-03-28 00:00:00+00:00  11451676 -3.75\n",
       "2022-03-29 00:00:00+00:00  11508309 -3.75\n",
       "2022-03-30 00:00:00+00:00  11508309 -3.75\n",
       "\n",
       "[799 rows x 2 columns]"
      ]
     },
     "execution_count": 64,
     "metadata": {},
     "output_type": "execute_result"
    }
   ],
   "source": [
    "df_es.set_index('Date')[['Cases','Lon',]]"
   ]
  },
  {
   "cell_type": "markdown",
   "id": "89f3f009",
   "metadata": {},
   "source": [
    "## Exportar datos"
   ]
  },
  {
   "cell_type": "markdown",
   "id": "38b41095",
   "metadata": {},
   "source": [
    "Lo ultimo que queremos hacer es guardar los datos en CSV `Valores Separados por Comas`, son el tipo de datos mayoritarios porque apenas pesa. Los datos que generamos los podemos guardar tanto en CSV, para poder llevarlo a otro formato, o también podemos crearlo en PNG, para que nos cree una imagen que podamos descargar.\n"
   ]
  },
  {
   "cell_type": "code",
   "execution_count": 65,
   "id": "37173ddc",
   "metadata": {},
   "outputs": [],
   "source": [
    "vs.to_csv('vs.csv')\n",
    "vs2.to_csv ('vs2.csv')"
   ]
  },
  {
   "cell_type": "markdown",
   "id": "54c0a043",
   "metadata": {},
   "source": [
    "La siguiente fórmula nos sirve para exportar en png un gráfico, que se queda guardado en la carpeta que hemos creado para este proyecto"
   ]
  },
  {
   "cell_type": "code",
   "execution_count": 68,
   "id": "64ec571d",
   "metadata": {},
   "outputs": [
    {
     "data": {
      "image/png": "[encoded data removed]",
      "text/plain": [
       "<Figure size 432x288 with 1 Axes>"
      ]
     },
     "metadata": {
      "needs_background": "light"
     },
     "output_type": "display_data"
    }
   ],
   "source": [
    "grafico = vs.plot()\n",
    "fig = grafico.get_figure()\n",
    "fig.savefig(\"vs.png\")"
   ]
  },
  {
   "cell_type": "code",
   "execution_count": 69,
   "id": "d6c4a95a",
   "metadata": {},
   "outputs": [
    {
     "data": {
      "image/png": "[encoded data removed]",
      "text/plain": [
       "<Figure size 432x288 with 1 Axes>"
      ]
     },
     "metadata": {
      "needs_background": "light"
     },
     "output_type": "display_data"
    }
   ],
   "source": [
    "grafico = vs2.plot()\n",
    "fig = grafico.get_figure()\n",
    "fig.savefig(\"vs2.png\")"
   ]
  },
  {
   "cell_type": "code",
   "execution_count": null,
   "id": "12f67f2a",
   "metadata": {},
   "outputs": [],
   "source": []
  }
 ],
 "metadata": {
  "kernelspec": {
   "display_name": "Python 3",
   "language": "python",
   "name": "python3"
  },
  "language_info": {
   "codemirror_mode": {
    "name": "ipython",
    "version": 3
   },
   "file_extension": ".py",
   "mimetype": "text/x-python",
   "name": "python",
   "nbconvert_exporter": "python",
   "pygments_lexer": "ipython3",
   "version": "3.8.8"
  }
 },
 "nbformat": 4,
 "nbformat_minor": 5
}
